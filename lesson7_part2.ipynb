{
 "cells": [
  {
   "cell_type": "code",
   "execution_count": 1,
   "metadata": {},
   "outputs": [],
   "source": [
    "import numpy as np\n",
    "import pandas as pd\n",
    "from sklearn.preprocessing import LabelEncoder\n",
    "\n",
    "from sklearn.model_selection import cross_val_score\n",
    "from sklearn.ensemble import RandomForestClassifier"
   ]
  },
  {
   "cell_type": "code",
   "execution_count": 2,
   "metadata": {},
   "outputs": [],
   "source": [
    "mapping = {'Don': 'Aristocratic', 'Mme': 'Miss', 'Ms': 'Miss', 'Dr': 'Aristocratic',\n",
    "    'Major': 'Aristocratic', 'Lady': 'Aristocratic', 'Sir': 'Aristocratic', \n",
    "    'Mlle': 'Miss', 'Col': 'Aristocratic', 'Capt': 'Aristocratic', 'Rev': 'Aristocratic',\n",
    "    'Countess': 'Aristocratic', 'Jonkheer': 'Aristocratic', 'Dona': 'Aristocratic'}"
   ]
  },
  {
   "cell_type": "code",
   "execution_count": 3,
   "metadata": {},
   "outputs": [],
   "source": [
    "train = pd.read_csv('titanic/train.csv')\n",
    "test = pd.read_csv('titanic/test.csv')"
   ]
  },
  {
   "cell_type": "code",
   "execution_count": 4,
   "metadata": {},
   "outputs": [],
   "source": [
    "def populate_embarked(df):\n",
    "    embarked = df.groupby('Embarked').count()['PassengerId']\n",
    "    embarked_max = embarked[embarked == embarked.max()].index[0]\n",
    "    df.loc[df['Embarked'].isnull(), 'Embarked'] = embarked_max\n",
    "    return df"
   ]
  },
  {
   "cell_type": "code",
   "execution_count": 5,
   "metadata": {},
   "outputs": [],
   "source": [
    "def set_titles(df, mapping):\n",
    "    df['Title'] = df['Name'].str.extract('([A-Za-z]+)\\.')\n",
    "    df.replace({'Title': mapping}, inplace=True)\n",
    "    return df"
   ]
  },
  {
   "cell_type": "code",
   "execution_count": 6,
   "metadata": {},
   "outputs": [],
   "source": [
    "def populate_age(df):\n",
    "    age_med = df.groupby('Title')['Age'].median()\n",
    "    for title, age in age_med.iteritems():\n",
    "        filter_age = df['Age'].isnull()\n",
    "        filter_title = df['Title'] == title\n",
    "        df.loc[filter_age & filter_title, 'Age'] = age\n",
    "    return df"
   ]
  },
  {
   "cell_type": "code",
   "execution_count": 7,
   "metadata": {},
   "outputs": [],
   "source": [
    "def populate_fare(df):\n",
    "    for pclass, fare in df.groupby('Pclass')['Fare'].median().iteritems():\n",
    "        filter_fare = df['Fare'] == 0\n",
    "        filter_pclass = df['Pclass'] == pclass\n",
    "        df.loc[filter_fare & filter_pclass, 'Fare'] = fare\n",
    "    return df"
   ]
  },
  {
   "cell_type": "code",
   "execution_count": 8,
   "metadata": {},
   "outputs": [],
   "source": [
    "def set_family(df):\n",
    "    df['Family'] = df['SibSp'] + df['Parch']\n",
    "    return df"
   ]
  },
  {
   "cell_type": "code",
   "execution_count": 9,
   "metadata": {},
   "outputs": [],
   "source": [
    "def set_iscabin(df):\n",
    "    df['isCabin'] = np.where(df['Cabin'].notna(), 1, 0)\n",
    "    return df"
   ]
  },
  {
   "cell_type": "code",
   "execution_count": 11,
   "metadata": {},
   "outputs": [],
   "source": [
    "train = populate_embarked(train)\n",
    "train = set_titles(train, mapping)\n",
    "train = populate_age(train)\n",
    "train = populate_fare(train)\n",
    "train = set_family(train)\n",
    "train = set_iscabin(train)"
   ]
  },
  {
   "cell_type": "code",
   "execution_count": 12,
   "metadata": {},
   "outputs": [],
   "source": [
    "test = populate_embarked(test)\n",
    "test = set_titles(test, mapping)\n",
    "test = populate_age(test)\n",
    "test = populate_fare(test)\n",
    "test = set_family(test)\n",
    "test = set_iscabin(test)"
   ]
  },
  {
   "cell_type": "code",
   "execution_count": 13,
   "metadata": {},
   "outputs": [
    {
     "name": "stderr",
     "output_type": "stream",
     "text": [
      "/home/feargate/projects/ds1/ds1/lib/python3.6/site-packages/ipykernel_launcher.py:1: SettingWithCopyWarning: \n",
      "A value is trying to be set on a copy of a slice from a DataFrame\n",
      "\n",
      "See the caveats in the documentation: http://pandas.pydata.org/pandas-docs/stable/indexing.html#indexing-view-versus-copy\n",
      "  \"\"\"Entry point for launching an IPython kernel.\n"
     ]
    }
   ],
   "source": [
    "test['Fare'][test['Fare'].isnull()] = test['Fare'].median()"
   ]
  },
  {
   "cell_type": "code",
   "execution_count": 14,
   "metadata": {},
   "outputs": [],
   "source": [
    "train = train.drop(['PassengerId', 'Name', 'Ticket', 'Cabin'], axis=1)"
   ]
  },
  {
   "cell_type": "code",
   "execution_count": 15,
   "metadata": {},
   "outputs": [],
   "source": [
    "result = pd.DataFrame(test['PassengerId'])\n",
    "test = test.drop(['PassengerId', 'Name', 'Ticket', 'Cabin'], axis=1)"
   ]
  },
  {
   "cell_type": "code",
   "execution_count": 16,
   "metadata": {},
   "outputs": [],
   "source": [
    "le = LabelEncoder()\n",
    "classes = {}"
   ]
  },
  {
   "cell_type": "code",
   "execution_count": 17,
   "metadata": {},
   "outputs": [],
   "source": [
    "le.fit(train['Sex'])\n",
    "classes['Sex'] = le.classes_\n",
    "train['Sex'] = le.transform(train['Sex'])\n",
    "\n",
    "le.fit(train['Embarked'])\n",
    "classes['Embarked'] = le.classes_\n",
    "train['Embarked'] = le.transform(train['Embarked'])\n",
    "\n",
    "le.fit(train['Title'])\n",
    "classes['Title'] = le.classes_\n",
    "train['Title'] = le.transform(train['Title'])"
   ]
  },
  {
   "cell_type": "code",
   "execution_count": 18,
   "metadata": {},
   "outputs": [],
   "source": [
    "le.fit(classes['Sex'])\n",
    "test['Sex'] = le.transform(test['Sex'])\n",
    "\n",
    "le.fit(classes['Embarked'])\n",
    "test['Embarked'] = le.transform(test['Embarked'])\n",
    "\n",
    "le.fit(classes['Title'])\n",
    "test['Title'] = le.transform(test['Title'])"
   ]
  },
  {
   "cell_type": "code",
   "execution_count": 19,
   "metadata": {},
   "outputs": [],
   "source": [
    "target = train['Survived']\n",
    "train = train.drop(['Survived'], axis=1)"
   ]
  },
  {
   "cell_type": "code",
   "execution_count": 20,
   "metadata": {},
   "outputs": [],
   "source": [
    "model_rf = RandomForestClassifier(n_estimators=100)"
   ]
  },
  {
   "cell_type": "code",
   "execution_count": 21,
   "metadata": {},
   "outputs": [
    {
     "name": "stdout",
     "output_type": "stream",
     "text": [
      "[0.83798883 0.7877095  0.83146067 0.76966292 0.84180791]\n",
      "0.8137259658264968\n"
     ]
    }
   ],
   "source": [
    "scores = cross_val_score(model_rf, train, target, cv=5)\n",
    "print(scores)\n",
    "print(scores.mean())"
   ]
  },
  {
   "cell_type": "code",
   "execution_count": 22,
   "metadata": {},
   "outputs": [],
   "source": [
    "model_rf = model_rf.fit(train, target)"
   ]
  },
  {
   "cell_type": "code",
   "execution_count": 23,
   "metadata": {},
   "outputs": [],
   "source": [
    "predictions = model_rf.predict(test)"
   ]
  },
  {
   "cell_type": "code",
   "execution_count": 24,
   "metadata": {},
   "outputs": [],
   "source": [
    "result.insert(1, 'Survived', predictions)"
   ]
  },
  {
   "cell_type": "code",
   "execution_count": 25,
   "metadata": {},
   "outputs": [],
   "source": [
    "result.to_csv('titanic/result4.csv', index=False)"
   ]
  },
  {
   "cell_type": "code",
   "execution_count": null,
   "metadata": {},
   "outputs": [],
   "source": []
  }
 ],
 "metadata": {
  "kernelspec": {
   "display_name": "Python 3",
   "language": "python",
   "name": "python3"
  },
  "language_info": {
   "codemirror_mode": {
    "name": "ipython",
    "version": 3
   },
   "file_extension": ".py",
   "mimetype": "text/x-python",
   "name": "python",
   "nbconvert_exporter": "python",
   "pygments_lexer": "ipython3",
   "version": "3.6.7"
  }
 },
 "nbformat": 4,
 "nbformat_minor": 2
}
